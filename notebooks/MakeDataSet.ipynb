{
 "cells": [
  {
   "cell_type": "code",
   "execution_count": 6,
   "metadata": {
    "collapsed": true
   },
   "outputs": [],
   "source": [
    "import numpy as np\n",
    "import os\n",
    "from utils.blockJpeg import d1, d2, d3, round_op, halfup, floor, trunc, get_quantification_matrix\n",
    "import utils.makeDataset as datasetMaker\n",
    "\n",
    "OUTPUT_DATA_FOLDER = '../output/datasets/'\n",
    "INPUT_DATA_FOLDER = '../data/'\n",
    "\n",
    "\n",
    "def get_dataset_number():\n",
    "    return len(os.listdir(OUTPUT_DATA_FOLDER)) + 1"
   ]
  },
  {
   "cell_type": "markdown",
   "source": [
    "## Define settings value"
   ],
   "metadata": {
    "collapsed": false,
    "pycharm": {
     "name": "#%% md\n"
    }
   }
  },
  {
   "cell_type": "code",
   "execution_count": 2,
   "outputs": [],
   "source": [
    "d_list = [d1, d2, d3]\n",
    "s_list = [2 ** 0] * 3\n",
    "sh_list = [np.array([2 ** 11] * 8)] * 3\n",
    "sv_list = [np.array([2 ** 15] * 8)] * 3\n",
    "Q_list = [get_quantification_matrix(50), get_quantification_matrix(90), get_quantification_matrix(10)]\n",
    "fq_list = [round_op] * 3\n",
    "f2_list = [round_op] * 3\n",
    "fe_list = [halfup] * 3\n",
    "fo_list = [halfup] * 3\n",
    "fs_list = [round_op] * 3"
   ],
   "metadata": {
    "collapsed": false,
    "pycharm": {
     "name": "#%%\n"
    }
   }
  },
  {
   "cell_type": "code",
   "execution_count": 10,
   "outputs": [],
   "source": [
    "dict_settings_list = []\n",
    "\n",
    "for d, s, sh, sv, Q, fq, f2, fe, fo, fs in zip(d_list, s_list, sh_list, sv_list, Q_list, fq_list, f2_list, fe_list,\n",
    "                                               fo_list, fs_list):\n",
    "    dict_settings_list.append(datasetMaker.settings_to_dict(d, s, sh, sv, Q, fq, f2, fe, fo, fs))\n"
   ],
   "metadata": {
    "collapsed": false,
    "pycharm": {
     "name": "#%%\n"
    }
   }
  },
  {
   "cell_type": "markdown",
   "source": [
    "## Exporting (and saving offline) the compressed images with the corresponding settings"
   ],
   "metadata": {
    "collapsed": false,
    "pycharm": {
     "name": "#%% md\n"
    }
   }
  },
  {
   "cell_type": "code",
   "execution_count": 4,
   "outputs": [
    {
     "name": "stdout",
     "output_type": "stream",
     "text": [
      "*** Computing and saving dataset 1 ***\n",
      "Dataste 1Done\n",
      "*** Computing and saving dataset 2 ***\n",
      "Dataste 2Done\n",
      "*** Computing and saving dataset 3 ***\n",
      "Dataste 3Done\n"
     ]
    }
   ],
   "source": [
    "for dict_settings in dict_settings_list:\n",
    "    curr_dataset = get_dataset_number()\n",
    "    print(f\"*** Computing and saving dataset {curr_dataset} ***\")\n",
    "    datasetMaker.make_dataset_dict_settings(INPUT_DATA_FOLDER, get_dataset_number(), dict_settings)\n",
    "\n",
    "    print(f\"Dataset {curr_dataset} done\")\n"
   ],
   "metadata": {
    "collapsed": false,
    "pycharm": {
     "name": "#%%\n"
    }
   }
  }
 ],
 "metadata": {
  "kernelspec": {
   "display_name": "Python 3",
   "language": "python",
   "name": "python3"
  },
  "language_info": {
   "codemirror_mode": {
    "name": "ipython",
    "version": 2
   },
   "file_extension": ".py",
   "mimetype": "text/x-python",
   "name": "python",
   "nbconvert_exporter": "python",
   "pygments_lexer": "ipython2",
   "version": "2.7.6"
  }
 },
 "nbformat": 4,
 "nbformat_minor": 0
}