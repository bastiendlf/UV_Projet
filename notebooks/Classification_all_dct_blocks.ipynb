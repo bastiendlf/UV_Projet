{
 "cells": [
  {
   "cell_type": "code",
   "execution_count": 1,
   "metadata": {},
   "outputs": [],
   "source": [
    "import numpy as np\n",
    "import utils.makeDataset as DatasetMaker\n",
    "from utils.training import show_confusion_matrix, save_model, load_model\n",
    "from sklearn.metrics import classification_report\n",
    "from sklearn.model_selection import train_test_split\n",
    "import os\n",
    "\n",
    "MODEL_TYPE = 'adaboost'\n",
    "PATH_MODELS = f\"../models/train_on_blocks/{MODEL_TYPE}/\"\n",
    "DATASETS = [1, 4, 7]\n",
    "MODEL_NAME = ''.join([MODEL_TYPE] + ['_c' + str(curr) for curr in DATASETS])\n",
    "FORCE_TRAIN_AGAIN = False  # Used to force the training of a model already exported"
   ]
  },
  {
   "cell_type": "markdown",
   "metadata": {
    "pycharm": {
     "name": "#%% md\n"
    }
   },
   "source": [
    "## Load data and split learning and testing data"
   ]
  },
  {
   "cell_type": "code",
   "execution_count": 2,
   "metadata": {
    "pycharm": {
     "name": "#%%\n"
    }
   },
   "outputs": [],
   "source": [
    "X = []\n",
    "y = []\n",
    "\n",
    "for current_dataset in DATASETS:\n",
    "    _, X_current = DatasetMaker.load_dataset(current_dataset)\n",
    "    y += [current_dataset] * len(X_current)\n",
    "    X += X_current\n",
    "\n",
    "X_train, X_test, y_train, y_test = train_test_split(X, y, test_size=0.33, random_state=42)"
   ]
  },
  {
   "cell_type": "markdown",
   "metadata": {
    "pycharm": {
     "name": "#%% md\n"
    }
   },
   "source": [
    "## Convert data to make classification on DCT blocks and not on the whole image"
   ]
  },
  {
   "cell_type": "code",
   "execution_count": 3,
   "metadata": {
    "pycharm": {
     "name": "#%%\n"
    }
   },
   "outputs": [],
   "source": [
    "def convert(X, y):\n",
    "    res_X = []\n",
    "    res_y = []\n",
    "    for curr_X, curr_y in zip(X, y):\n",
    "        for block in curr_X:\n",
    "            res_X.append(block.reshape(64))\n",
    "            res_y.append(curr_y)\n",
    "    return res_X, res_y\n",
    "\n",
    "\n",
    "X_train_block, y_train_block = convert(X_train, y_train)\n",
    "X_test_block, y_test_block = convert(X_test, y_test)"
   ]
  },
  {
   "cell_type": "markdown",
   "metadata": {
    "pycharm": {
     "name": "#%% md\n"
    }
   },
   "source": [
    "## Training or Loading existing model"
   ]
  },
  {
   "cell_type": "code",
   "execution_count": 4,
   "metadata": {
    "pycharm": {
     "name": "#%%\n"
    }
   },
   "outputs": [],
   "source": [
    "from sklearn.ensemble import RandomForestClassifier, AdaBoostClassifier\n",
    "from sklearn.svm import SVC\n",
    "from sklearn.pipeline import make_pipeline\n",
    "from sklearn.preprocessing import StandardScaler\n",
    "\n",
    "\n",
    "def get_trained_model(model):\n",
    "    if not (os.path.exists(os.path.join(PATH_MODELS, MODEL_NAME + '.pickle'))) or FORCE_TRAIN_AGAIN:\n",
    "        print(f\"Training {MODEL_NAME}, please wait...\")\n",
    "        model.fit(X_train_block, y_train_block)\n",
    "        print(f\"Saving {MODEL_NAME} at {os.path.join(PATH_MODELS, MODEL_NAME)}.pickle\")\n",
    "        save_model(model, PATH_MODELS, MODEL_NAME)\n",
    "    else:\n",
    "        print(f\"Loading {MODEL_NAME}, please wait...\")\n",
    "        model = load_model(PATH_MODELS, MODEL_NAME)\n",
    "    return model\n",
    "\n",
    "\n",
    "MODELS = {\n",
    "    \"rf\": RandomForestClassifier(max_depth=2, random_state=0),\n",
    "    \"adaboost\": AdaBoostClassifier(),\n",
    "    \"svm\": make_pipeline(StandardScaler(), SVC(gamma='auto', probability=False))\n",
    "}"
   ]
  },
  {
   "cell_type": "code",
   "execution_count": 5,
   "outputs": [
    {
     "name": "stdout",
     "output_type": "stream",
     "text": [
      "Training adaboost_c1_c4_c7, please wait...\n",
      "Saving adaboost_c1_c4_c7 at ../models/train_on_blocks/adaboost/adaboost_c1_c4_c7.pickle\n"
     ]
    }
   ],
   "source": [
    "model = get_trained_model(MODELS[MODEL_TYPE])"
   ],
   "metadata": {
    "collapsed": false,
    "pycharm": {
     "name": "#%%\n"
    }
   }
  },
  {
   "cell_type": "code",
   "execution_count": 6,
   "outputs": [
    {
     "data": {
      "text/plain": "<Figure size 432x288 with 2 Axes>",
      "image/png": "[encoded data removed]"
     },
     "metadata": {
      "needs_background": "light"
     },
     "output_type": "display_data"
    }
   ],
   "source": [
    "y_pred_block = model.predict(X_test_block)\n",
    "show_confusion_matrix(y_test_block, y_pred_block, DATASETS)"
   ],
   "metadata": {
    "collapsed": false,
    "pycharm": {
     "name": "#%%\n"
    }
   }
  },
  {
   "cell_type": "code",
   "execution_count": 7,
   "metadata": {
    "pycharm": {
     "name": "#%%\n"
    }
   },
   "outputs": [
    {
     "name": "stdout",
     "output_type": "stream",
     "text": [
      "              precision    recall  f1-score   support\n",
      "\n",
      "           1       0.71      0.96      0.81    175104\n",
      "           4       0.94      1.00      0.97    119808\n",
      "           7       1.00      0.51      0.68    141312\n",
      "\n",
      "    accuracy                           0.82    436224\n",
      "   macro avg       0.88      0.82      0.82    436224\n",
      "weighted avg       0.87      0.82      0.81    436224\n",
      "\n"
     ]
    }
   ],
   "source": [
    "print(classification_report(y_test_block, y_pred_block))"
   ]
  },
  {
   "cell_type": "markdown",
   "metadata": {
    "pycharm": {
     "name": "#%% md\n"
    }
   },
   "source": [
    "## Vote majoritaire"
   ]
  },
  {
   "cell_type": "code",
   "execution_count": 8,
   "metadata": {
    "pycharm": {
     "name": "#%%\n"
    }
   },
   "outputs": [
    {
     "name": "stdout",
     "output_type": "stream",
     "text": [
      "              precision    recall  f1-score   support\n",
      "\n",
      "           1       0.70      1.00      0.82        57\n",
      "           4       1.00      1.00      1.00        39\n",
      "           7       1.00      0.46      0.63        46\n",
      "\n",
      "    accuracy                           0.82       142\n",
      "   macro avg       0.90      0.82      0.82       142\n",
      "weighted avg       0.88      0.82      0.81       142\n",
      "\n"
     ]
    }
   ],
   "source": [
    "y_pred = []\n",
    "for curr_X_test in X_test:\n",
    "    curr_y_pred = model.predict(curr_X_test.reshape(curr_X_test.shape[0], curr_X_test.shape[1] * curr_X_test.shape[2]))\n",
    "    unique, counts = np.unique(curr_y_pred, return_counts=True)\n",
    "    y_pred.append(unique[np.argmax(counts)])\n",
    "\n",
    "print(classification_report(y_test, y_pred))"
   ]
  },
  {
   "cell_type": "code",
   "execution_count": 9,
   "metadata": {
    "pycharm": {
     "name": "#%%\n"
    }
   },
   "outputs": [
    {
     "data": {
      "text/plain": "<Figure size 432x288 with 2 Axes>",
      "image/png": "[encoded data removed]"
     },
     "metadata": {
      "needs_background": "light"
     },
     "output_type": "display_data"
    }
   ],
   "source": [
    "show_confusion_matrix(y_test, y_pred, DATASETS)\n"
   ]
  }
 ],
 "metadata": {
  "kernelspec": {
   "display_name": "Python 3",
   "language": "python",
   "name": "python3"
  },
  "language_info": {
   "codemirror_mode": {
    "name": "ipython",
    "version": 3
   },
   "file_extension": ".py",
   "mimetype": "text/x-python",
   "name": "python",
   "nbconvert_exporter": "python",
   "pygments_lexer": "ipython3",
   "version": "3.8.10"
  }
 },
 "nbformat": 4,
 "nbformat_minor": 1
}