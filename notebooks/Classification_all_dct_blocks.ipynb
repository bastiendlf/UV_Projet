{
 "cells": [
  {
   "cell_type": "code",
   "execution_count": 28,
   "metadata": {},
   "outputs": [],
   "source": [
    "import numpy as np\n",
    "import utils.makeDataset as DatasetMaker\n",
    "from utils.training import show_confusion_matrix, save_model, load_model\n",
    "from sklearn.metrics import classification_report\n",
    "from sklearn.model_selection import train_test_split\n",
    "import os\n",
    "\n",
    "MODEL_TYPE = \"adaboost\"\n",
    "PATH_MODELS = f\"../models/train_on_blocks/{MODEL_TYPE}/\"\n",
    "DATASETS = [16, 17]\n",
    "MODEL_NAME = ''.join([str(MODEL_TYPE)] + ['_c' + str(curr) for curr in DATASETS])\n",
    "FORCE_TRAIN_AGAIN = False  # Used to force the training of a model already exported"
   ]
  },
  {
   "cell_type": "markdown",
   "metadata": {
    "pycharm": {
     "name": "#%% md\n"
    }
   },
   "source": [
    "## Load data and split learning and testing data"
   ]
  },
  {
   "cell_type": "code",
   "execution_count": 29,
   "metadata": {
    "pycharm": {
     "name": "#%%\n"
    }
   },
   "outputs": [],
   "source": [
    "X = []\n",
    "y = []\n",
    "\n",
    "for current_dataset in DATASETS:\n",
    "    _, X_current = DatasetMaker.load_dataset(current_dataset)\n",
    "    y += [current_dataset] * len(X_current)\n",
    "    X += X_current\n",
    "\n",
    "X_train, X_test, y_train, y_test = train_test_split(X, y, test_size=0.33, random_state=42)"
   ]
  },
  {
   "cell_type": "markdown",
   "metadata": {
    "pycharm": {
     "name": "#%% md\n"
    }
   },
   "source": [
    "## Convert data to make classification on DCT blocks and not on the whole image"
   ]
  },
  {
   "cell_type": "code",
   "execution_count": 30,
   "metadata": {
    "pycharm": {
     "name": "#%%\n"
    }
   },
   "outputs": [],
   "source": [
    "def convert(X, y):\n",
    "    res_X = []\n",
    "    res_y = []\n",
    "    for curr_X, curr_y in zip(X, y):\n",
    "        for block in curr_X:\n",
    "            res_X.append(block.reshape(64))\n",
    "            res_y.append(curr_y)\n",
    "    return res_X, res_y\n",
    "\n",
    "\n",
    "X_train_block, y_train_block = convert(X_train, y_train)\n",
    "X_test_block, y_test_block = convert(X_test, y_test)"
   ]
  },
  {
   "cell_type": "markdown",
   "metadata": {
    "pycharm": {
     "name": "#%% md\n"
    }
   },
   "source": [
    "## Training or Loading existing model"
   ]
  },
  {
   "cell_type": "code",
   "execution_count": 31,
   "metadata": {
    "pycharm": {
     "name": "#%%\n"
    }
   },
   "outputs": [],
   "source": [
    "from sklearn.ensemble import RandomForestClassifier, AdaBoostClassifier\n",
    "from sklearn.svm import SVC\n",
    "from sklearn.pipeline import make_pipeline\n",
    "from sklearn.preprocessing import StandardScaler\n",
    "\n",
    "\n",
    "def get_trained_model(model):\n",
    "    if not (os.path.exists(os.path.join(PATH_MODELS, MODEL_NAME + '.pickle'))) or FORCE_TRAIN_AGAIN:\n",
    "        print(f\"Training {MODEL_NAME}, please wait...\")\n",
    "        model.fit(X_train_block, y_train_block)\n",
    "        print(f\"Saving {MODEL_NAME} at {os.path.join(PATH_MODELS, MODEL_NAME)}.pickle\")\n",
    "        save_model(model, PATH_MODELS, MODEL_NAME)\n",
    "    else:\n",
    "        print(f\"Loading {MODEL_NAME}, please wait...\")\n",
    "        model = load_model(PATH_MODELS, MODEL_NAME)\n",
    "    return model\n",
    "\n",
    "\n",
    "MODELS = {\n",
    "    \"rf\": RandomForestClassifier(max_depth=2, random_state=0),\n",
    "    \"adaboost\": AdaBoostClassifier(),\n",
    "    \"svm\": make_pipeline(StandardScaler(), SVC(gamma='auto', probability=False))\n",
    "}"
   ]
  },
  {
   "cell_type": "code",
   "execution_count": 32,
   "outputs": [
    {
     "name": "stdout",
     "output_type": "stream",
     "text": [
      "Loading adaboost_c16_c17, please wait...\n"
     ]
    }
   ],
   "source": [
    "model = get_trained_model(MODELS[MODEL_TYPE])"
   ],
   "metadata": {
    "collapsed": false,
    "pycharm": {
     "name": "#%%\n"
    }
   }
  },
  {
   "cell_type": "code",
   "execution_count": 33,
   "outputs": [
    {
     "data": {
      "text/plain": "<Figure size 432x288 with 2 Axes>",
      "image/png": "[encoded data removed]"
     },
     "metadata": {
      "needs_background": "light"
     },
     "output_type": "display_data"
    }
   ],
   "source": [
    "y_pred_block = model.predict(X_test_block)\n",
    "show_confusion_matrix(y_test_block, y_pred_block, DATASETS)"
   ],
   "metadata": {
    "collapsed": false,
    "pycharm": {
     "name": "#%%\n"
    }
   }
  },
  {
   "cell_type": "code",
   "execution_count": 34,
   "metadata": {
    "pycharm": {
     "name": "#%%\n"
    }
   },
   "outputs": [
    {
     "name": "stdout",
     "output_type": "stream",
     "text": [
      "              precision    recall  f1-score   support\n",
      "\n",
      "          16       0.95      0.99      0.97    147456\n",
      "          17       0.99      0.95      0.97    144384\n",
      "\n",
      "    accuracy                           0.97    291840\n",
      "   macro avg       0.97      0.97      0.97    291840\n",
      "weighted avg       0.97      0.97      0.97    291840\n",
      "\n"
     ]
    }
   ],
   "source": [
    "print(classification_report(y_test_block, y_pred_block))"
   ]
  },
  {
   "cell_type": "markdown",
   "metadata": {
    "pycharm": {
     "name": "#%% md\n"
    }
   },
   "source": [
    "## Vote majoritaire"
   ]
  },
  {
   "cell_type": "code",
   "execution_count": 35,
   "metadata": {
    "pycharm": {
     "name": "#%%\n"
    }
   },
   "outputs": [
    {
     "name": "stdout",
     "output_type": "stream",
     "text": [
      "              precision    recall  f1-score   support\n",
      "\n",
      "          16       1.00      1.00      1.00        48\n",
      "          17       1.00      1.00      1.00        47\n",
      "\n",
      "    accuracy                           1.00        95\n",
      "   macro avg       1.00      1.00      1.00        95\n",
      "weighted avg       1.00      1.00      1.00        95\n",
      "\n"
     ]
    }
   ],
   "source": [
    "y_pred = []\n",
    "for curr_X_test in X_test:\n",
    "    curr_y_pred = model.predict(curr_X_test.reshape(curr_X_test.shape[0], curr_X_test.shape[1] * curr_X_test.shape[2]))\n",
    "    unique, counts = np.unique(curr_y_pred, return_counts=True)\n",
    "    y_pred.append(unique[np.argmax(counts)])\n",
    "\n",
    "print(classification_report(y_test, y_pred))"
   ]
  },
  {
   "cell_type": "code",
   "execution_count": 36,
   "metadata": {
    "pycharm": {
     "name": "#%%\n"
    }
   },
   "outputs": [
    {
     "data": {
      "text/plain": "<Figure size 432x288 with 2 Axes>",
      "image/png": "[encoded data removed]"
     },
     "metadata": {
      "needs_background": "light"
     },
     "output_type": "display_data"
    }
   ],
   "source": [
    "show_confusion_matrix(y_test, y_pred, DATASETS)\n"
   ]
  }
 ],
 "metadata": {
  "kernelspec": {
   "display_name": "Python 3",
   "language": "python",
   "name": "python3"
  },
  "language_info": {
   "codemirror_mode": {
    "name": "ipython",
    "version": 3
   },
   "file_extension": ".py",
   "mimetype": "text/x-python",
   "name": "python",
   "nbconvert_exporter": "python",
   "pygments_lexer": "ipython3",
   "version": "3.8.10"
  }
 },
 "nbformat": 4,
 "nbformat_minor": 1
}