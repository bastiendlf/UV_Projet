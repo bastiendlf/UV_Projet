{
 "cells": [
  {
   "cell_type": "code",
   "execution_count": 1,
   "metadata": {
    "collapsed": true
   },
   "outputs": [],
   "source": [
    "import matplotlib.pyplot as plt\n",
    "import numpy as np\n",
    "import cv2\n",
    "import os\n",
    "from utils.blockJpeg import get_quantification_matrix\n",
    "import glob\n",
    "from tqdm import tqdm\n",
    "from sklearn.ensemble import RandomForestClassifier\n",
    "import utils.makeDataset as DatasetMaker\n",
    "from utils.training import unique_images, get_average_dct\n",
    "from sklearn import preprocessing\n",
    "from sklearn.model_selection import train_test_split\n",
    "from sklearn.model_selection import cross_val_score\n",
    "from sklearn.metrics import plot_confusion_matrix"
   ]
  },
  {
   "cell_type": "markdown",
   "source": [
    "# Create Datasets"
   ],
   "metadata": {
    "collapsed": false,
    "pycharm": {
     "name": "#%% md\n"
    }
   }
  },
  {
   "cell_type": "code",
   "execution_count": 10,
   "outputs": [],
   "source": [
    "# D19, D20 : 75 , 75+100\n",
    "# D21, D22 : 100, 100+100\n",
    "DATA_FOLDER = '../data'\n",
    "OUTPUT_DATA_FOLDER= \"../output/datasets\"\n",
    "OUTPUT_IMG_FOLDER = \"../output/CompressedImg\"\n",
    "DATASETS = [25, 26] # datasets to train and test\n",
    "q1 = 75 # first quantification\n",
    "q2 = 90 # second quantification\n",
    "\n",
    "block = 8\n",
    "BL_COMPUTE_AVG = True # Image represented by its average DCT"
   ],
   "metadata": {
    "collapsed": false,
    "pycharm": {
     "name": "#%%\n"
    }
   }
  },
  {
   "cell_type": "code",
   "execution_count": 3,
   "outputs": [],
   "source": [
    "def showImage(img):\n",
    "    plt.figure(figsize=(15,15))\n",
    "    plt.imshow(img,cmap='gray')\n",
    "    plt.xticks([]),plt.yticks([])\n",
    "    plt.show()\n",
    "\n",
    "def slice_image(image):\n",
    "    height, width = image.shape\n",
    "    sliced = [] # new list for 8x8 sliced image\n",
    "    #dividing 8x8 parts\n",
    "    currY = 0 #current Y index\n",
    "    for i in range(block,height+1,block):\n",
    "        currX = 0 #current X index\n",
    "        for j in range(block,width+1,block):\n",
    "            sliced.append(image[currY:i,currX:j])\n",
    "            currX = j\n",
    "        currY = i\n",
    "    return sliced\n",
    "\n",
    "def compute_dct(sliced_img):\n",
    "    dct_output = [cv2.dct(part) for part in sliced_img]\n",
    "    return dct_output\n",
    "\n",
    "\n",
    "def quantification(dct_output, selected_qmatrix, around=np.around):\n",
    "    quantification_output = []\n",
    "    for block_dct in dct_output:\n",
    "        quantification_output.append(around(block_dct/selected_qmatrix))\n",
    "    return quantification_output\n",
    "\n",
    "def inverse_quantification(quantiOutput, selected_qmatrix, around=np.around):\n",
    "    inverse_quantiOutput = []\n",
    "    for block_dct in quantiOutput:\n",
    "        inverse_quantiOutput.append(around(block_dct*selected_qmatrix))\n",
    "    return inverse_quantiOutput\n",
    "\n",
    "def compute_idct(inverse_quantiOutput):\n",
    "    invList = [cv2.idct(ipart) for ipart in inverse_quantiOutput]\n",
    "    return invList\n",
    "\n",
    "def unslice_image(idct_output, img_width):\n",
    "    row = 0\n",
    "    rowNcol = []\n",
    "    for j in range(int(img_width/block),len(idct_output)+1,int(img_width/block)):\n",
    "        rowNcol.append(np.hstack((idct_output[row:j])))\n",
    "        row = j\n",
    "    res = np.vstack((rowNcol))\n",
    "    return res\n",
    "\n",
    "\n",
    "def get_dataset_number():\n",
    "    return len(glob.glob(os.path.join(OUTPUT_DATA_FOLDER, '*'))) + 1"
   ],
   "metadata": {
    "collapsed": false,
    "pycharm": {
     "name": "#%%\n"
    }
   }
  },
  {
   "cell_type": "code",
   "execution_count": 4,
   "outputs": [],
   "source": [
    "def create_dataset(output_data_folder, input_data_folder, q, nb_img, output_img_folder=False):\n",
    "\n",
    "    if not os.path.exists(output_data_folder):\n",
    "        os.mkdir(output_data_folder)\n",
    "\n",
    "    dataset_number = get_dataset_number()\n",
    "    # Place pictures with same compression settings in a common folder\n",
    "    dataset_output = os.path.join(output_data_folder, str(dataset_number))\n",
    "    if not os.path.exists(dataset_output):\n",
    "        os.mkdir(dataset_output)\n",
    "\n",
    "    pictures = os.listdir(input_data_folder)\n",
    "\n",
    "    if nb_img>len(pictures):\n",
    "        raise Exception('nb_img is higher than the total number of images in the input_data_folder')\n",
    "    else:\n",
    "        for pic_ind in tqdm(range(nb_img)):\n",
    "            pic_name = pictures[pic_ind]\n",
    "\n",
    "            img = cv2.imread(input_data_folder + '/'+ pic_name, 0)\n",
    "            img = np.float32(img) - 128\n",
    "            sliced = slice_image(img)\n",
    "            DCToutput = compute_dct(sliced)\n",
    "            quantiOutput = quantification(DCToutput, get_quantification_matrix(q), np.around)\n",
    "\n",
    "            np.save(dataset_output + \"/\" + pic_name + \".npy\", DCToutput)\n",
    "            # get result here for classification\n",
    "\n",
    "            if output_img_folder :\n",
    "                ## Inverse quantification\n",
    "                if not os.path.exists(output_img_folder):\n",
    "                    os.mkdir(output_img_folder)\n",
    "\n",
    "                inverse_quantiOutput = inverse_quantification(quantiOutput, get_quantification_matrix(q), np.around)\n",
    "                idct_output = compute_idct(inverse_quantiOutput)\n",
    "                res = unslice_image(idct_output, img.shape[1])\n",
    "                plt.imsave(output_img_folder+'/'+pic_name+'.png', res, format='png', cmap='gray')"
   ],
   "metadata": {
    "collapsed": false,
    "pycharm": {
     "name": "#%%\n"
    }
   }
  },
  {
   "cell_type": "code",
   "execution_count": 8,
   "outputs": [
    {
     "name": "stderr",
     "output_type": "stream",
     "text": [
      "100%|██████████| 200/200 [00:38<00:00,  5.14it/s]\n",
      "100%|██████████| 200/200 [00:32<00:00,  6.09it/s]\n"
     ]
    }
   ],
   "source": [
    "# Datasets 19 - 20 (75 - 75+100)\n",
    "# create_dataset(OUTPUT_DATA_FOLDER, DATA_FOLDER, q1, 200, OUTPUT_IMG_FOLDER+'/'+str(q1))\n",
    "# create_dataset(OUTPUT_DATA_FOLDER, OUTPUT_IMG_FOLDER+'/'+str(q1), q2, 200, OUTPUT_IMG_FOLDER+'/'+str(q1)+'_'+str(q2))"
   ],
   "metadata": {
    "collapsed": false,
    "pycharm": {
     "name": "#%%\n"
    }
   }
  },
  {
   "cell_type": "code",
   "execution_count": 13,
   "outputs": [],
   "source": [
    "# Datasets 21 - 22 (100 - 100+100)\n",
    "# create_dataset(OUTPUT_DATA_FOLDER, DATA_FOLDER, q2, 200, OUTPUT_IMG_FOLDER+'/'+str(q2))\n",
    "# create_dataset(OUTPUT_DATA_FOLDER, OUTPUT_IMG_FOLDER+'/'+str(q2), q2, 200, OUTPUT_IMG_FOLDER+'/'+str(q2)+'_'+str(q2))\n"
   ],
   "metadata": {
    "collapsed": false,
    "pycharm": {
     "name": "#%%\n"
    }
   }
  },
  {
   "cell_type": "markdown",
   "source": [
    "# Train the model"
   ],
   "metadata": {
    "collapsed": false,
    "pycharm": {
     "name": "#%% md\n"
    }
   }
  },
  {
   "cell_type": "code",
   "execution_count": 11,
   "outputs": [
    {
     "name": "stdout",
     "output_type": "stream",
     "text": [
      "score 0.75\n"
     ]
    },
    {
     "name": "stderr",
     "output_type": "stream",
     "text": [
      "c:\\users\\shiti\\documents\\m2\\uv2_projet\\projet_py\\lib\\site-packages\\sklearn\\utils\\deprecation.py:87: FutureWarning: Function plot_confusion_matrix is deprecated; Function `plot_confusion_matrix` is deprecated in 1.0 and will be removed in 1.2. Use one of the class methods: ConfusionMatrixDisplay.from_predictions or ConfusionMatrixDisplay.from_estimator.\n",
      "  warnings.warn(msg, category=FutureWarning)\n"
     ]
    },
    {
     "name": "stdout",
     "output_type": "stream",
     "text": [
      "cross validation score : 0.68\n"
     ]
    },
    {
     "data": {
      "text/plain": "<Figure size 432x288 with 2 Axes>",
      "image/png": "[encoded data removed]"
     },
     "metadata": {
      "needs_background": "light"
     },
     "output_type": "display_data"
    }
   ],
   "source": [
    "# New dataset without duplicated image\n",
    "X = []\n",
    "y_labels = []\n",
    "\n",
    "for current_dataset in DATASETS:\n",
    "    _, X_current = DatasetMaker.load_dataset(current_dataset)\n",
    "    y_labels += [current_dataset] * len(X_current)\n",
    "    if BL_COMPUTE_AVG:\n",
    "        X += get_average_dct(X_current)\n",
    "    else:\n",
    "        X += X_current\n",
    "\n",
    "le = preprocessing.LabelEncoder()\n",
    "y = le.fit_transform(y_labels)\n",
    "\n",
    "new_X, new_y = unique_images(X, y.tolist())\n",
    "\n",
    "\n",
    "# Train test split\n",
    "rfc = RandomForestClassifier(max_depth=10, criterion='entropy')\n",
    "X_train, X_test, y_train, y_test = train_test_split(new_X, new_y, test_size=0.3, random_state=123)\n",
    "rfc.fit(X_train, y_train)\n",
    "print(\"score\", rfc.score(X_test, y_test))\n",
    "plot_confusion_matrix(rfc, X_test, y_test, normalize='true', cmap=plt.cm.Blues)\n",
    "\n",
    "\n",
    "# Cross validation\n",
    "rfc = RandomForestClassifier(max_depth=10, criterion='entropy')\n",
    "print('cross validation score :', np.mean(cross_val_score(rfc, new_X, new_y, cv=5)))\n"
   ],
   "metadata": {
    "collapsed": false,
    "pycharm": {
     "name": "#%%\n"
    }
   }
  }
 ],
 "metadata": {
  "kernelspec": {
   "display_name": "Python 3",
   "language": "python",
   "name": "python3"
  },
  "language_info": {
   "codemirror_mode": {
    "name": "ipython",
    "version": 2
   },
   "file_extension": ".py",
   "mimetype": "text/x-python",
   "name": "python",
   "nbconvert_exporter": "python",
   "pygments_lexer": "ipython2",
   "version": "2.7.6"
  }
 },
 "nbformat": 4,
 "nbformat_minor": 0
}