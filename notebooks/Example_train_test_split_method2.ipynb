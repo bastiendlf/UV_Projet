{
 "cells": [
  {
   "cell_type": "code",
   "execution_count": 2,
   "metadata": {
    "collapsed": true
   },
   "outputs": [],
   "source": [
    "import numpy as np\n",
    "import matplotlib.pyplot as plt\n",
    "from sklearn.ensemble import RandomForestClassifier\n",
    "from sklearn.metrics import plot_confusion_matrix\n",
    "from utils.dataSplit import train_test, cross_validation"
   ]
  },
  {
   "cell_type": "markdown",
   "source": [
    "# Example for train_test_split according to Method 2"
   ],
   "metadata": {
    "collapsed": false,
    "pycharm": {
     "name": "#%% md\n"
    }
   }
  },
  {
   "cell_type": "code",
   "execution_count": 7,
   "outputs": [],
   "source": [
    "INPUT_DATA_FOLDER = \"../output/datasets/\"\n",
    "folders = [1,5,9] # numbers of datasets to train and to test"
   ],
   "metadata": {
    "collapsed": false,
    "pycharm": {
     "name": "#%%\n"
    }
   }
  },
  {
   "cell_type": "code",
   "execution_count": 8,
   "outputs": [
    {
     "name": "stdout",
     "output_type": "stream",
     "text": [
      "score 0.8604651162790697\n",
      "prediction [5 1 1 1 1 5 1 5 9 9 9 1 9 1 1 9 1 1 9 5 1 5 5 9 5 5 5 5 1 1 9 1 9 1 9 9 9\n",
      " 5 1 9 9 1 9 9 9 1 9 9 9 1 1 5 5 1 1 5 1 9 9 5 9 1 9 5 1 5 1 1 5 1 5 1 9 1\n",
      " 1 9 5 1 9 1 1 5 1 1 1 5 9 9 5 5 1 5 1 1 5 5 9 9 5 9 1 5 5 5 1 1 9 9 9 5 1\n",
      " 9 5 9 5 9 5 5 9 1 9 1 9 5 1 1 1 1 9]\n",
      "0      5\n",
      "1      1\n",
      "2      1\n",
      "3      1\n",
      "4      5\n",
      "      ..\n",
      "124    5\n",
      "125    1\n",
      "126    1\n",
      "127    1\n",
      "128    9\n",
      "Name: class, Length: 129, dtype: int64\n"
     ]
    },
    {
     "name": "stderr",
     "output_type": "stream",
     "text": [
      "c:\\users\\shiti\\documents\\m2\\uv2_projet\\projet_py\\lib\\site-packages\\sklearn\\utils\\deprecation.py:87: FutureWarning: Function plot_confusion_matrix is deprecated; Function `plot_confusion_matrix` is deprecated in 1.0 and will be removed in 1.2. Use one of the class methods: ConfusionMatrixDisplay.from_predictions or ConfusionMatrixDisplay.from_estimator.\n",
      "  warnings.warn(msg, category=FutureWarning)\n"
     ]
    },
    {
     "name": "stdout",
     "output_type": "stream",
     "text": [
      "cross validation score :  0.8738095238095237\n"
     ]
    },
    {
     "data": {
      "text/plain": "<Figure size 432x288 with 2 Axes>",
      "image/png": "[encoded data removed]"
     },
     "metadata": {
      "needs_background": "light"
     },
     "output_type": "display_data"
    }
   ],
   "source": [
    "# Train test split for scoring\n",
    "train, test = train_test(INPUT_DATA_FOLDER, folders)\n",
    "\n",
    "X_train, X_test, y_train, y_test = np.array([e for e in train['average_dct']]), np.array([e for e in test['average_dct']]), train['class'], test['class']\n",
    "rfc = RandomForestClassifier(max_depth=10, criterion='entropy',random_state=0)\n",
    "rfc.fit(X_train, y_train)\n",
    "print(\"score\", rfc.score(X_test, y_test))\n",
    "plot_confusion_matrix(rfc, X_test, y_test, normalize='true', cmap=plt.cm.Blues)\n",
    "\n",
    "\n",
    "# Cross validation\n",
    "score_cv = cross_validation(INPUT_DATA_FOLDER, folders, 5, rfc, order='zigzag')\n",
    "print('cross validation score : ', score_cv)"
   ],
   "metadata": {
    "collapsed": false,
    "pycharm": {
     "name": "#%%\n"
    }
   }
  }
 ],
 "metadata": {
  "kernelspec": {
   "display_name": "Python 3",
   "language": "python",
   "name": "python3"
  },
  "language_info": {
   "codemirror_mode": {
    "name": "ipython",
    "version": 2
   },
   "file_extension": ".py",
   "mimetype": "text/x-python",
   "name": "python",
   "nbconvert_exporter": "python",
   "pygments_lexer": "ipython2",
   "version": "2.7.6"
  }
 },
 "nbformat": 4,
 "nbformat_minor": 0
}