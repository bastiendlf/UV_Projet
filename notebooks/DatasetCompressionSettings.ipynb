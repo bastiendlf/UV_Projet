{
 "cells": [
  {
   "cell_type": "code",
   "execution_count": 1,
   "metadata": {
    "collapsed": true,
    "pycharm": {
     "name": "#%%\n"
    }
   },
   "outputs": [
    {
     "data": {
      "text/plain": "                                 d  s  \\\n0  <function d1 at 0x7f825a6fb160>  1   \n1  <function d2 at 0x7f825a6fb1f0>  1   \n2  <function d3 at 0x7f825a6fb280>  1   \n3  <function d1 at 0x7f825a6fb160>  1   \n4  <function d2 at 0x7f825a6fb1f0>  1   \n5  <function d3 at 0x7f825a6fb280>  1   \n6  <function d1 at 0x7f825a6fb160>  1   \n7  <function d2 at 0x7f825a6fb1f0>  1   \n8  <function d3 at 0x7f825a6fb280>  1   \n\n                                                 sh  \\\n0  [2048, 2048, 2048, 2048, 2048, 2048, 2048, 2048]   \n1  [2048, 2048, 2048, 2048, 2048, 2048, 2048, 2048]   \n2  [2048, 2048, 2048, 2048, 2048, 2048, 2048, 2048]   \n3  [2048, 2048, 2048, 2048, 2048, 2048, 2048, 2048]   \n4  [2048, 2048, 2048, 2048, 2048, 2048, 2048, 2048]   \n5  [2048, 2048, 2048, 2048, 2048, 2048, 2048, 2048]   \n6  [2048, 2048, 2048, 2048, 2048, 2048, 2048, 2048]   \n7  [2048, 2048, 2048, 2048, 2048, 2048, 2048, 2048]   \n8  [2048, 2048, 2048, 2048, 2048, 2048, 2048, 2048]   \n\n                                                  sv   Q  \\\n0  [32768, 32768, 32768, 32768, 32768, 32768, 327...  50   \n1  [32768, 32768, 32768, 32768, 32768, 32768, 327...  90   \n2  [32768, 32768, 32768, 32768, 32768, 32768, 327...  10   \n3  [32768, 32768, 32768, 32768, 32768, 32768, 327...  10   \n4  [32768, 32768, 32768, 32768, 32768, 32768, 327...  50   \n5  [32768, 32768, 32768, 32768, 32768, 32768, 327...  90   \n6  [32768, 32768, 32768, 32768, 32768, 32768, 327...  90   \n7  [32768, 32768, 32768, 32768, 32768, 32768, 327...  10   \n8  [32768, 32768, 32768, 32768, 32768, 32768, 327...  50   \n\n                                      fq  \\\n0  <function round_op at 0x7f825a6fb0d0>   \n1  <function round_op at 0x7f825a6fb0d0>   \n2  <function round_op at 0x7f825a6fb0d0>   \n3  <function round_op at 0x7f825a6fb0d0>   \n4  <function round_op at 0x7f825a6fb0d0>   \n5  <function round_op at 0x7f825a6fb0d0>   \n6  <function round_op at 0x7f825a6fb0d0>   \n7  <function round_op at 0x7f825a6fb0d0>   \n8  <function round_op at 0x7f825a6fb0d0>   \n\n                                      f2                                   fe  \\\n0  <function round_op at 0x7f825a6fb0d0>  <function halfup at 0x7f82295f9f70>   \n1  <function round_op at 0x7f825a6fb0d0>  <function halfup at 0x7f82295f9f70>   \n2  <function round_op at 0x7f825a6fb0d0>  <function halfup at 0x7f82295f9f70>   \n3  <function round_op at 0x7f825a6fb0d0>  <function halfup at 0x7f82295f9f70>   \n4  <function round_op at 0x7f825a6fb0d0>  <function halfup at 0x7f82295f9f70>   \n5  <function round_op at 0x7f825a6fb0d0>  <function halfup at 0x7f82295f9f70>   \n6  <function round_op at 0x7f825a6fb0d0>  <function halfup at 0x7f82295f9f70>   \n7  <function round_op at 0x7f825a6fb0d0>  <function halfup at 0x7f82295f9f70>   \n8  <function round_op at 0x7f825a6fb0d0>  <function halfup at 0x7f82295f9f70>   \n\n                                    fo                                     fs  \n0  <function halfup at 0x7f82295f9f70>  <function round_op at 0x7f825a6fb0d0>  \n1  <function halfup at 0x7f82295f9f70>  <function round_op at 0x7f825a6fb0d0>  \n2  <function halfup at 0x7f82295f9f70>  <function round_op at 0x7f825a6fb0d0>  \n3  <function halfup at 0x7f82295f9f70>  <function round_op at 0x7f825a6fb0d0>  \n4  <function halfup at 0x7f82295f9f70>  <function round_op at 0x7f825a6fb0d0>  \n5  <function halfup at 0x7f82295f9f70>  <function round_op at 0x7f825a6fb0d0>  \n6  <function halfup at 0x7f82295f9f70>  <function round_op at 0x7f825a6fb0d0>  \n7  <function halfup at 0x7f82295f9f70>  <function round_op at 0x7f825a6fb0d0>  \n8  <function halfup at 0x7f82295f9f70>  <function round_op at 0x7f825a6fb0d0>  ",
      "text/html": "<div>\n<style scoped>\n    .dataframe tbody tr th:only-of-type {\n        vertical-align: middle;\n    }\n\n    .dataframe tbody tr th {\n        vertical-align: top;\n    }\n\n    .dataframe thead th {\n        text-align: right;\n    }\n</style>\n<table border=\"1\" class=\"dataframe\">\n  <thead>\n    <tr style=\"text-align: right;\">\n      <th></th>\n      <th>d</th>\n      <th>s</th>\n      <th>sh</th>\n      <th>sv</th>\n      <th>Q</th>\n      <th>fq</th>\n      <th>f2</th>\n      <th>fe</th>\n      <th>fo</th>\n      <th>fs</th>\n    </tr>\n  </thead>\n  <tbody>\n    <tr>\n      <th>0</th>\n      <td>&lt;function d1 at 0x7f825a6fb160&gt;</td>\n      <td>1</td>\n      <td>[2048, 2048, 2048, 2048, 2048, 2048, 2048, 2048]</td>\n      <td>[32768, 32768, 32768, 32768, 32768, 32768, 327...</td>\n      <td>50</td>\n      <td>&lt;function round_op at 0x7f825a6fb0d0&gt;</td>\n      <td>&lt;function round_op at 0x7f825a6fb0d0&gt;</td>\n      <td>&lt;function halfup at 0x7f82295f9f70&gt;</td>\n      <td>&lt;function halfup at 0x7f82295f9f70&gt;</td>\n      <td>&lt;function round_op at 0x7f825a6fb0d0&gt;</td>\n    </tr>\n    <tr>\n      <th>1</th>\n      <td>&lt;function d2 at 0x7f825a6fb1f0&gt;</td>\n      <td>1</td>\n      <td>[2048, 2048, 2048, 2048, 2048, 2048, 2048, 2048]</td>\n      <td>[32768, 32768, 32768, 32768, 32768, 32768, 327...</td>\n      <td>90</td>\n      <td>&lt;function round_op at 0x7f825a6fb0d0&gt;</td>\n      <td>&lt;function round_op at 0x7f825a6fb0d0&gt;</td>\n      <td>&lt;function halfup at 0x7f82295f9f70&gt;</td>\n      <td>&lt;function halfup at 0x7f82295f9f70&gt;</td>\n      <td>&lt;function round_op at 0x7f825a6fb0d0&gt;</td>\n    </tr>\n    <tr>\n      <th>2</th>\n      <td>&lt;function d3 at 0x7f825a6fb280&gt;</td>\n      <td>1</td>\n      <td>[2048, 2048, 2048, 2048, 2048, 2048, 2048, 2048]</td>\n      <td>[32768, 32768, 32768, 32768, 32768, 32768, 327...</td>\n      <td>10</td>\n      <td>&lt;function round_op at 0x7f825a6fb0d0&gt;</td>\n      <td>&lt;function round_op at 0x7f825a6fb0d0&gt;</td>\n      <td>&lt;function halfup at 0x7f82295f9f70&gt;</td>\n      <td>&lt;function halfup at 0x7f82295f9f70&gt;</td>\n      <td>&lt;function round_op at 0x7f825a6fb0d0&gt;</td>\n    </tr>\n    <tr>\n      <th>3</th>\n      <td>&lt;function d1 at 0x7f825a6fb160&gt;</td>\n      <td>1</td>\n      <td>[2048, 2048, 2048, 2048, 2048, 2048, 2048, 2048]</td>\n      <td>[32768, 32768, 32768, 32768, 32768, 32768, 327...</td>\n      <td>10</td>\n      <td>&lt;function round_op at 0x7f825a6fb0d0&gt;</td>\n      <td>&lt;function round_op at 0x7f825a6fb0d0&gt;</td>\n      <td>&lt;function halfup at 0x7f82295f9f70&gt;</td>\n      <td>&lt;function halfup at 0x7f82295f9f70&gt;</td>\n      <td>&lt;function round_op at 0x7f825a6fb0d0&gt;</td>\n    </tr>\n    <tr>\n      <th>4</th>\n      <td>&lt;function d2 at 0x7f825a6fb1f0&gt;</td>\n      <td>1</td>\n      <td>[2048, 2048, 2048, 2048, 2048, 2048, 2048, 2048]</td>\n      <td>[32768, 32768, 32768, 32768, 32768, 32768, 327...</td>\n      <td>50</td>\n      <td>&lt;function round_op at 0x7f825a6fb0d0&gt;</td>\n      <td>&lt;function round_op at 0x7f825a6fb0d0&gt;</td>\n      <td>&lt;function halfup at 0x7f82295f9f70&gt;</td>\n      <td>&lt;function halfup at 0x7f82295f9f70&gt;</td>\n      <td>&lt;function round_op at 0x7f825a6fb0d0&gt;</td>\n    </tr>\n    <tr>\n      <th>5</th>\n      <td>&lt;function d3 at 0x7f825a6fb280&gt;</td>\n      <td>1</td>\n      <td>[2048, 2048, 2048, 2048, 2048, 2048, 2048, 2048]</td>\n      <td>[32768, 32768, 32768, 32768, 32768, 32768, 327...</td>\n      <td>90</td>\n      <td>&lt;function round_op at 0x7f825a6fb0d0&gt;</td>\n      <td>&lt;function round_op at 0x7f825a6fb0d0&gt;</td>\n      <td>&lt;function halfup at 0x7f82295f9f70&gt;</td>\n      <td>&lt;function halfup at 0x7f82295f9f70&gt;</td>\n      <td>&lt;function round_op at 0x7f825a6fb0d0&gt;</td>\n    </tr>\n    <tr>\n      <th>6</th>\n      <td>&lt;function d1 at 0x7f825a6fb160&gt;</td>\n      <td>1</td>\n      <td>[2048, 2048, 2048, 2048, 2048, 2048, 2048, 2048]</td>\n      <td>[32768, 32768, 32768, 32768, 32768, 32768, 327...</td>\n      <td>90</td>\n      <td>&lt;function round_op at 0x7f825a6fb0d0&gt;</td>\n      <td>&lt;function round_op at 0x7f825a6fb0d0&gt;</td>\n      <td>&lt;function halfup at 0x7f82295f9f70&gt;</td>\n      <td>&lt;function halfup at 0x7f82295f9f70&gt;</td>\n      <td>&lt;function round_op at 0x7f825a6fb0d0&gt;</td>\n    </tr>\n    <tr>\n      <th>7</th>\n      <td>&lt;function d2 at 0x7f825a6fb1f0&gt;</td>\n      <td>1</td>\n      <td>[2048, 2048, 2048, 2048, 2048, 2048, 2048, 2048]</td>\n      <td>[32768, 32768, 32768, 32768, 32768, 32768, 327...</td>\n      <td>10</td>\n      <td>&lt;function round_op at 0x7f825a6fb0d0&gt;</td>\n      <td>&lt;function round_op at 0x7f825a6fb0d0&gt;</td>\n      <td>&lt;function halfup at 0x7f82295f9f70&gt;</td>\n      <td>&lt;function halfup at 0x7f82295f9f70&gt;</td>\n      <td>&lt;function round_op at 0x7f825a6fb0d0&gt;</td>\n    </tr>\n    <tr>\n      <th>8</th>\n      <td>&lt;function d3 at 0x7f825a6fb280&gt;</td>\n      <td>1</td>\n      <td>[2048, 2048, 2048, 2048, 2048, 2048, 2048, 2048]</td>\n      <td>[32768, 32768, 32768, 32768, 32768, 32768, 327...</td>\n      <td>50</td>\n      <td>&lt;function round_op at 0x7f825a6fb0d0&gt;</td>\n      <td>&lt;function round_op at 0x7f825a6fb0d0&gt;</td>\n      <td>&lt;function halfup at 0x7f82295f9f70&gt;</td>\n      <td>&lt;function halfup at 0x7f82295f9f70&gt;</td>\n      <td>&lt;function round_op at 0x7f825a6fb0d0&gt;</td>\n    </tr>\n  </tbody>\n</table>\n</div>"
     },
     "execution_count": 1,
     "metadata": {},
     "output_type": "execute_result"
    }
   ],
   "source": [
    "import os\n",
    "import pandas as pd\n",
    "import utils.makeDataset as datasetMaker\n",
    "\n",
    "OUTPUT_DATA_FOLDER = '../output/datasets/'\n",
    "INPUT_DATA_FOLDER = '../data/'\n",
    "\n",
    "datasets = [f for f in os.listdir(OUTPUT_DATA_FOLDER) if not f.endswith('.gitkeep')]\n",
    "\n",
    "settings = [datasetMaker.load_settings(dataset) for dataset in datasets]\n",
    "\n",
    "df_settings = pd.DataFrame(settings)\n",
    "\n",
    "df_settings"
   ]
  }
 ],
 "metadata": {
  "kernelspec": {
   "display_name": "Python 3",
   "language": "python",
   "name": "python3"
  },
  "language_info": {
   "codemirror_mode": {
    "name": "ipython",
    "version": 2
   },
   "file_extension": ".py",
   "mimetype": "text/x-python",
   "name": "python",
   "nbconvert_exporter": "python",
   "pygments_lexer": "ipython2",
   "version": "2.7.6"
  }
 },
 "nbformat": 4,
 "nbformat_minor": 0
}