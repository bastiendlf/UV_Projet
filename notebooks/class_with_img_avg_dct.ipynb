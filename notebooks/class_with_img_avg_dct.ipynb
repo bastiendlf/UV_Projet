{
 "cells": [
  {
   "cell_type": "code",
   "execution_count": 133,
   "metadata": {
    "collapsed": true
   },
   "outputs": [],
   "source": [
    "import os\n",
    "import numpy as np\n",
    "#from matplotlib.pyplot import imshow\n",
    "import matplotlib.pyplot as plt\n",
    "#import random\n",
    "import pandas as pd\n",
    "from sklearn.ensemble import RandomForestClassifier\n",
    "from sklearn.model_selection import train_test_split\n",
    "\n",
    "from sklearn.preprocessing import StandardScaler\n",
    "from sklearn.pipeline import make_pipeline\n",
    "from sklearn.svm import SVC\n",
    "from sklearn.metrics import plot_confusion_matrix"
   ]
  },
  {
   "cell_type": "code",
   "execution_count": 158,
   "outputs": [],
   "source": [
    "INPUT_DATA_FOLDER = \"../output/datasets/\"\n",
    "folders = [1,5] # numbers of datasets (classes) to do prediction on\n",
    "\n",
    "\n",
    "# Classification supervisée\n",
    "\n",
    "# zigzag coefficients\n",
    "def coef_dct(folder):\n",
    "    img_blocks = os.listdir(folder)\n",
    "    dct_blocks = [np.load(folder+img_block) for img_block in img_blocks if img_block.endswith('.npy')]\n",
    "    avg_dct = np.mean(np.array(dct_blocks), axis=1)\n",
    "    for x in avg_dct:\n",
    "        x[0][0]=0\n",
    "    avg_dct = [np.concatenate([np.diagonal(x[::-1,:], i)[::(2*(i % 2)-1)] for i in range(1-x.shape[0], x.shape[0])]) for x in avg_dct]\n",
    "    return avg_dct\n"
   ],
   "metadata": {
    "collapsed": false,
    "pycharm": {
     "name": "#%%\n"
    }
   }
  },
  {
   "cell_type": "code",
   "execution_count": 159,
   "outputs": [],
   "source": [
    "def train_df(input_folder, nb_dataset):\n",
    "    df = pd.DataFrame()\n",
    "    for i in nb_dataset:\n",
    "        dct_ = coef_dct(input_folder+str(i)+\"/\")\n",
    "        df = df.append([[list(x),i] for x in dct_ ])\n",
    "    df = df.reset_index(drop=True)\n",
    "    df = df.rename(columns={0:'average_dct', 1:'class'})\n",
    "    return df\n",
    "\n",
    "df = train_df(INPUT_DATA_FOLDER, folders)"
   ],
   "metadata": {
    "collapsed": false,
    "pycharm": {
     "name": "#%%\n"
    }
   }
  },
  {
   "cell_type": "code",
   "execution_count": 148,
   "outputs": [
    {
     "data": {
      "text/plain": "RandomForestClassifier(max_depth=2, random_state=0)"
     },
     "execution_count": 148,
     "metadata": {},
     "output_type": "execute_result"
    }
   ],
   "source": [
    "# Random Forest Classifier\n",
    "X = np.array([x for x in df['average_dct']])\n",
    "y = df['class']\n",
    "\n",
    "X_train, X_test, y_train, y_test = train_test_split(X, y, test_size=0.3, random_state=123)\n",
    "rfc = RandomForestClassifier(max_depth=2, random_state=0)\n",
    "rfc.fit(X_train, y_train)\n",
    "print(\"score\", rfc.score(X_test, y_test))\n",
    "print(\"prediction\", rfc.predict(X_test))\n",
    "print(y_test)\n",
    "plot_confusion_matrix(rfc, X_test, y_test, normalize='true', cmap=plt.cm.Blues)"
   ],
   "metadata": {
    "collapsed": false,
    "pycharm": {
     "name": "#%%\n"
    }
   }
  },
  {
   "cell_type": "code",
   "execution_count": 150,
   "outputs": [
    {
     "name": "stdout",
     "output_type": "stream",
     "text": [
      "score 0.9418604651162791\n",
      "prediction [5 1 5 1 5 1 5 5 1 5 1 1 1 1 5 5 1 1 5 1 5 1 1 5 1 1 1 5 5 1 5 5 5 1 1 1 1\n",
      " 5 1 1 5 1 1 5 1 5 5 1 5 1 5 5 1 5 5 1 5 5 1 1 1 1 1 1 1 1 5 5 1 5 1 5 5 1\n",
      " 5 1 5 1 1 5 1 1 5 5 1 1]\n",
      "240    5\n",
      "29     1\n",
      "269    5\n",
      "79     1\n",
      "210    5\n",
      "      ..\n",
      "66     1\n",
      "190    5\n",
      "156    5\n",
      "127    1\n",
      "124    1\n",
      "Name: class, Length: 86, dtype: int64\n"
     ]
    },
    {
     "name": "stderr",
     "output_type": "stream",
     "text": [
      "c:\\users\\shiti\\documents\\m2\\uv2_projet\\projet_py\\lib\\site-packages\\sklearn\\utils\\deprecation.py:87: FutureWarning: Function plot_confusion_matrix is deprecated; Function `plot_confusion_matrix` is deprecated in 1.0 and will be removed in 1.2. Use one of the class methods: ConfusionMatrixDisplay.from_predictions or ConfusionMatrixDisplay.from_estimator.\n",
      "  warnings.warn(msg, category=FutureWarning)\n"
     ]
    },
    {
     "data": {
      "text/plain": "<sklearn.metrics._plot.confusion_matrix.ConfusionMatrixDisplay at 0x1f53c325190>"
     },
     "execution_count": 150,
     "metadata": {},
     "output_type": "execute_result"
    },
    {
     "data": {
      "text/plain": "<Figure size 432x288 with 2 Axes>",
      "image/png": "[encoded data removed]"
     },
     "metadata": {
      "needs_background": "light"
     },
     "output_type": "display_data"
    }
   ],
   "source": [
    "# SVM\n",
    "X = np.array([x for x in df['average_dct']])\n",
    "y = df['class']\n",
    "\n",
    "X_train, X_test, y_train, y_test = train_test_split(X, y, test_size=0.3, random_state=123)\n",
    "svm = make_pipeline(StandardScaler(), SVC(gamma='auto'))\n",
    "svm.fit(X, y)\n",
    "print(\"score\", svm.score(X_test, y_test))\n",
    "print(\"prediction\", svm.predict(X_test))\n",
    "print(y_test)\n",
    "plot_confusion_matrix(svm, X_test, y_test, normalize='true', cmap=plt.cm.Blues)"
   ],
   "metadata": {
    "collapsed": false,
    "pycharm": {
     "name": "#%%\n"
    }
   }
  },
  {
   "cell_type": "code",
   "execution_count": 161,
   "outputs": [
    {
     "name": "stdout",
     "output_type": "stream",
     "text": [
      "score 0.7093023255813954\n"
     ]
    }
   ],
   "source": [
    "# Résultats moins bons avec le perceptron : 0.70 pour les classes 1 et 2, 0.40 pour les classes 1 et 5\n",
    "\n",
    "#from sklearn.linear_model import Perceptron\n",
    "\n",
    "#X = np.array([x for x in df['average_dct']])\n",
    "#y = df['class']\n",
    "\n",
    "#X_train, X_test, y_train, y_test = train_test_split(X, y, test_size=0.3, random_state=123)\n",
    "#pct = Perceptron(tol=1e-3, random_state=0)\n",
    "#pct.fit(X_train, y_train)\n",
    "#print(\"score\", pct.score(X_test, y_test))"
   ],
   "metadata": {
    "collapsed": false,
    "pycharm": {
     "name": "#%%\n"
    }
   }
  }
 ],
 "metadata": {
  "kernelspec": {
   "display_name": "Python 3",
   "language": "python",
   "name": "python3"
  },
  "language_info": {
   "codemirror_mode": {
    "name": "ipython",
    "version": 2
   },
   "file_extension": ".py",
   "mimetype": "text/x-python",
   "name": "python",
   "nbconvert_exporter": "python",
   "pygments_lexer": "ipython2",
   "version": "2.7.6"
  }
 },
 "nbformat": 4,
 "nbformat_minor": 0
}